{
 "cells": [
  {
   "cell_type": "code",
   "execution_count": 2,
   "id": "f037f4f8",
   "metadata": {},
   "outputs": [],
   "source": [
    "import regex as re"
   ]
  },
  {
   "cell_type": "markdown",
   "id": "d1afd695",
   "metadata": {},
   "source": [
    "## Task 1: Warm-up Bash Shell Commands \n",
    "The following are warm-up exercises to get some practice with regular expressions\n",
    "For these exercises, you’ll be searching from a file called names.txt that contains both single-word usernames as well as full names. You may assume the file contains one name per line."
   ]
  },
  {
   "cell_type": "code",
   "execution_count": 3,
   "id": "468124f7",
   "metadata": {},
   "outputs": [],
   "source": [
    "name = '''terribleSnail\n",
    "abc123\n",
    "condemnedInstructor\n",
    "messsage\n",
    "keep_it_simple_stupid\n",
    "Zoran L Fang\n",
    "myUsername210\n",
    "abc\n",
    "asdf\n",
    "joshy\n",
    "Hank Lazowska\n",
    "123feralHog\n",
    "Red Panda5\n",
    "1\n",
    "abc1\n",
    "DIRT\n",
    "*star*\n",
    "oshie poshy\n",
    "0shie p0shy\n",
    "OSHIE POSHY\n",
    "O Posh\n",
    "Oshie poshy\n",
    "oshie Poshy'''"
   ]
  },
  {
   "cell_type": "markdown",
   "id": "f838e488",
   "metadata": {},
   "source": [
    "### Problem 1\n",
    "Write the command that finds all usernames from names.txt that contain at least one numeric character.\n"
   ]
  },
  {
   "cell_type": "code",
   "execution_count": 4,
   "id": "58a9f7b5",
   "metadata": {},
   "outputs": [
    {
     "data": {
      "text/plain": [
       "['abc123',\n",
       " 'myUsername210',\n",
       " '123feralHog',\n",
       " 'Panda5',\n",
       " '1',\n",
       " 'abc1',\n",
       " '0shie',\n",
       " 'p0shy']"
      ]
     },
     "execution_count": 4,
     "metadata": {},
     "output_type": "execute_result"
    }
   ],
   "source": [
    "re.findall(r'\\w*\\d\\w*',name)"
   ]
  },
  {
   "cell_type": "markdown",
   "id": "dfe8fe56",
   "metadata": {},
   "source": [
    "### Problem 2\n",
    "Write the command that finds all usernames from names.txt that are exactly 4 characters long and consist only of alphabetic characters."
   ]
  },
  {
   "cell_type": "code",
   "execution_count": 5,
   "id": "d25afd06",
   "metadata": {},
   "outputs": [
    {
     "data": {
      "text/plain": [
       "['Fang\\n', 'asdf\\n', 'DIRT\\n', 'Posh\\n']"
      ]
     },
     "execution_count": 5,
     "metadata": {},
     "output_type": "execute_result"
    }
   ],
   "source": [
    "re.findall(r'\\b[a-zA-Z]{4}\\n',name)"
   ]
  },
  {
   "cell_type": "markdown",
   "id": "b581f934",
   "metadata": {},
   "source": [
    "### Problem 3\n",
    "Write the command that finds all first and last names in names.txt. A name is an uppercase letter followed by one or more lowercase letters and first and last names are separated by a single space. Your command should not match against names that contain a middle name or initials."
   ]
  },
  {
   "cell_type": "code",
   "execution_count": 8,
   "id": "b4a79cee",
   "metadata": {},
   "outputs": [
    {
     "data": {
      "text/plain": [
       "['Hank Lazowska']"
      ]
     },
     "execution_count": 8,
     "metadata": {},
     "output_type": "execute_result"
    }
   ],
   "source": [
    "re.findall(r'\\b[A-Z][a-z]+ [A-Z][a-z]+\\b',name)"
   ]
  },
  {
   "cell_type": "markdown",
   "id": "992d0a67",
   "metadata": {},
   "source": [
    "## Task 2: Bash Shell Commands \n",
    "\n",
    "After a few weeks at FAANG, management has discovered that we need to start actually selling products to stay in business. You’ll be helping develop regular expressions to help in customer account creation and billing. For each item below, determine a single bash shell statement that will perform the operation(s) requested. \n"
   ]
  },
  {
   "cell_type": "markdown",
   "id": "08bc1a5f",
   "metadata": {},
   "source": [
    "### Problem 4: Email Validation\n",
    "As part of account creation, customers must provide a valid email address. Write a command that prints out all valid email addresses from emails.txt. For the purposes of this assignment, we will use a simplified version of a valid email address, which is defined as follows:\n",
    "* Between 1 and 16 lowercase letters, uppercase letters, or digits\n",
    "* An @ symbol\n",
    "* A domain (e.g., gmail) that consists of any number of lowercase letters\n",
    "* A period\n",
    "* A tld (top level domain, e.g., .com) that consists of 2 or more lowercase letters\n",
    "\n",
    "You may assume that emails.txt contains one email per line.\n"
   ]
  },
  {
   "cell_type": "code",
   "execution_count": 9,
   "id": "9399bacf",
   "metadata": {},
   "outputs": [],
   "source": [
    "email = '''jle@uw.edu\n",
    "k@gmailcom\n",
    "hissingDonkey567@yahoo.com\n",
    "342highground@council.com\n",
    "aszotatgmail.co\n",
    "hopkins@apple.COM\n",
    "justchilling@cedarrapids|com\n",
    "perkins8@uw.com\n",
    "colorfulcupcake\n",
    "fungfangfaang@agar.io\n",
    "joshmyrealemail@imake.tools\n",
    "asuperduperuberlongemail@miles.long'''"
   ]
  },
  {
   "cell_type": "code",
   "execution_count": 10,
   "id": "862e9a27",
   "metadata": {},
   "outputs": [
    {
     "data": {
      "text/plain": [
       "['jle@uw.edu',\n",
       " 'hissingDonkey567@yahoo.com',\n",
       " '342highground@council.com',\n",
       " 'perkins8@uw.com',\n",
       " 'fungfangfaang@agar.io',\n",
       " 'joshmyrealemail@imake.tools']"
      ]
     },
     "execution_count": 10,
     "metadata": {},
     "output_type": "execute_result"
    }
   ],
   "source": [
    "re.findall(r'\\b\\w{1,16}@[a-z]+\\.[a-z]{2,}\\b+', email)"
   ]
  },
  {
   "cell_type": "markdown",
   "id": "5ab8d341",
   "metadata": {},
   "source": [
    "### Problem 5: Password Validation\n",
    "\n",
    "Customers also must choose a strong password when creating an account. Write a command that prints out all valid passwords in the file passwords.txt. A valid password at FAANG is defined as follows:\n",
    "* It must be at least 8 characters long\n",
    "* Must contain at least one uppercase character\n",
    "* Must contain at least one lowercase character\n",
    "* Must contain at least one digit.\n",
    "\n",
    "You may assume that passwords.txt contains one password per line.\n"
   ]
  },
  {
   "cell_type": "code",
   "execution_count": 11,
   "id": "e529e413",
   "metadata": {},
   "outputs": [],
   "source": [
    "password = '''missingAnyNumbers\n",
    "0123456\n",
    "01234567\n",
    "alllowercase\n",
    "ALLUPPERCASE\n",
    "Apples42\n",
    "orangE17\n",
    "1cupCake\n",
    "asdf\n",
    "720\n",
    "glhf56\n",
    "210afk'''"
   ]
  },
  {
   "cell_type": "code",
   "execution_count": 13,
   "id": "6cce9651",
   "metadata": {},
   "outputs": [
    {
     "data": {
      "text/plain": [
       "['Apples42', 'orangE17', '1cupCake']"
      ]
     },
     "execution_count": 13,
     "metadata": {},
     "output_type": "execute_result"
    }
   ],
   "source": [
    "re.findall(r'\\b(?=.*[a-z])(?=.*[A-Z])(?=.*\\d).{8,}\\b',password)"
   ]
  },
  {
   "cell_type": "markdown",
   "id": "e0f095d7",
   "metadata": {},
   "source": [
    "### Problem 6: Credit Card validation\n",
    "\n",
    "In order to process payments for orders, FAANG needs to validate credit cards entered on the site. Since we are a small company, we will only be accepting Visa and Mastercard (sorry, American Express, your fees are too high!) Write a command that identifies all well-formatted credit cards in a file called cards.txt that FAANG accepts. \n",
    "\n",
    "\n",
    "The format of these cards are as follows:\n",
    "* Master Card\n",
    "    * Begins with a 5\n",
    "    * Exactly 16 digits long, grouped into sets of 4 separated by a space\n",
    "* Visa\n",
    "    * Begins with a 4\n",
    "    * Between 13 and 16 digits long, grouped into sets of 4 (last may be shorter) separated by a space\n",
    "\n",
    "You may assume that cards.txt contains one credit card per line.\n"
   ]
  },
  {
   "cell_type": "code",
   "execution_count": 12,
   "id": "8fe39459",
   "metadata": {},
   "outputs": [],
   "source": [
    "card = '''5123 4567 8910 1112\n",
    "5123456789101112\n",
    "3908 0978 0890 7890\n",
    "4789 2784 8910 8290\n",
    "4989 9321 1230 9\n",
    "5419 2933 1839 17\n",
    "4740 1839 1281\n",
    "4789 0870 8908 70987\n",
    "58907890782309171\n",
    "5192 9295 91828818\n",
    "4182 2884 1232 9582 2182'''"
   ]
  },
  {
   "cell_type": "code",
   "execution_count": 14,
   "id": "6fa98ab8",
   "metadata": {},
   "outputs": [
    {
     "data": {
      "text/plain": [
       "['5123 4567 8910 1112', '5419 2933 1839 17']"
      ]
     },
     "execution_count": 14,
     "metadata": {},
     "output_type": "execute_result"
    }
   ],
   "source": [
    "# Master Card\n",
    "\n",
    "re.findall(r'\\b5\\d{,3}\\s\\d{,4}\\s\\d{,4}\\s\\d{,4}',card)"
   ]
  },
  {
   "cell_type": "code",
   "execution_count": 15,
   "id": "bb62aed0",
   "metadata": {},
   "outputs": [
    {
     "data": {
      "text/plain": [
       "['4567 8910 1112',\n",
       " '4789 2784 8910 8290',\n",
       " '4989 9321 1230',\n",
       " '4740 1839 1281\\n4789',\n",
       " '4182 2884 1232 9582']"
      ]
     },
     "execution_count": 15,
     "metadata": {},
     "output_type": "execute_result"
    }
   ],
   "source": [
    "# visa\n",
    "\n",
    "re.findall(r'4\\d{3}(?:\\s\\d{4}){2,3}\\b',card)"
   ]
  },
  {
   "cell_type": "markdown",
   "id": "10baf4fc",
   "metadata": {},
   "source": [
    "## Task 3: Bash Shell Commands with to process genetic Data\n",
    "\n",
    "The board is concerned about FAANG’s product-market fit. As it turns out, dirt and peas (especially those not in a pod) don’t have a high market value. Therefore, in addition to continuing to sell its pre-existing products, FAANG has decided to enter the biotech space and process genomic data.\n",
    "\n",
    "For these problems, you will be processing DNA data from the file dna.txt. Data is printed in the file in pairs of lines. The first line in the pair is the name of the DNA sequence, and the second line is the DNA sequence itself. The following provides you with some context for the task, but an understanding of DNA is not required for this assignment.\n",
    "\n",
    "DNA consists of long chains of chemical compounds called nucleotides. Four nucleotides are present in DNA: Adenine (A), Cytosine (C), Guanine (G), and Thymine (T). Certain regions of the DNA are called genes. Most genes encode instructions for building proteins (they’re called “protein-coding” genes). These proteins are responsible for carrying out most of the life processes of the organism. Nucleotides in a gene are organized into codons. Codons are groups of three nucleotides and are written as the first letters of their nucleotides (e.g., TAC or GGA). Each codon uniquely encodes a single amino acid, a building block of proteins.\n",
    "\n",
    "For these problems, you will be identifying protein-encoding genes as well as other attributes of the genetic data in the file. Note that all matches for these problems will be case-insensitive.\n"
   ]
  },
  {
   "cell_type": "code",
   "execution_count": 16,
   "id": "e2cde0c7",
   "metadata": {},
   "outputs": [],
   "source": [
    "dna = '''Simple Protein-Coding Gene\n",
    "ATGCCACTATGGTAG\n",
    "Upper and Lowercase Protein\n",
    "ATgCCAACATGgATGCCcGATAtGGATTgA\n",
    "Valid Gene\n",
    "ATGCGACCCTAGTAG\n",
    "Invalid Gene\n",
    "ATGCGACCCTAGTAGGG\n",
    "Another Protein-Coding Gene\n",
    "ATGACCGACTCAGTATAA\n",
    "Yet-Another Protein-Coding Gene\n",
    "ATGATCGACTACGATTAG\n",
    "Yet-Again-Another Protein-Coding Gene\n",
    "ATGATTGGGCCCGCTTAGTAGTGA\n",
    "Invalid Protein-Coding Gene\n",
    "ATGACCGACTCAGTAAAT\n",
    "Another Invalid Protein-Coding Gene\n",
    "ATGACCGACTAG\n",
    "Yet-Another Invalid Protein-Coding Gene\n",
    "AGGATTGGGCCCGCTTAGTAGTGA\n",
    "Feline-Encoding DNA\n",
    "CATCATCATCATCATCATCATCATCATCAT\n",
    "Palindrome DNA\n",
    "ACTTCA\n",
    "First And Last DNA\n",
    "TAGACGTACCTTAG'''"
   ]
  },
  {
   "cell_type": "markdown",
   "id": "b142f71f",
   "metadata": {},
   "source": [
    "### Problem 7\n",
    "Print all of the DNA sequences in the file (all of the non-names).\n"
   ]
  },
  {
   "cell_type": "code",
   "execution_count": 17,
   "id": "1f2297e9",
   "metadata": {},
   "outputs": [
    {
     "data": {
      "text/plain": [
       "['ATGCCACTATGGTAG',\n",
       " 'ATGCGACCCTAGTAG',\n",
       " 'ATGCGACCCTAGTAGGG',\n",
       " 'ATGACCGACTCAGTATAA',\n",
       " 'ATGATCGACTACGATTAG',\n",
       " 'ATGATTGGGCCCGCTTAGTAGTGA',\n",
       " 'ATGACCGACTCAGTAAAT',\n",
       " 'ATGACCGACTAG',\n",
       " 'AGGATTGGGCCCGCTTAGTAGTGA',\n",
       " 'CATCATCATCATCATCATCATCATCATCAT',\n",
       " 'ACTTCA',\n",
       " 'TAGACGTACCTTAG']"
      ]
     },
     "execution_count": 17,
     "metadata": {},
     "output_type": "execute_result"
    }
   ],
   "source": [
    "re.findall(r'\\b[A|C|T|G]+\\b',dna)"
   ]
  },
  {
   "cell_type": "markdown",
   "id": "750f37d7",
   "metadata": {},
   "source": [
    "### Problem 8\n",
    "Print all of the names of DNA sequences in the file.\n"
   ]
  },
  {
   "cell_type": "code",
   "execution_count": 20,
   "id": "84433198",
   "metadata": {},
   "outputs": [
    {
     "data": {
      "text/plain": [
       "['ATGCCACTATGGTAG',\n",
       " 'ATgCCAACATGgATGCCcGATAtGGATTgA',\n",
       " 'ATGCGACCCTAGTAG',\n",
       " 'ATGCGACCCTAGTAGGG',\n",
       " 'ATGACCGACTCAGTATAA',\n",
       " 'ATGATCGACTACGATTAG',\n",
       " 'ATGATTGGGCCCGCTTAGTAGTGA',\n",
       " 'ATGACCGACTCAGTAAAT',\n",
       " 'ATGACCGACTAG',\n",
       " 'AGGATTGGGCCCGCTTAGTAGTGA',\n",
       " 'CATCATCATCATCATCATCATCATCATCAT',\n",
       " 'ACTTCA',\n",
       " 'TAGACGTACCTTAG']"
      ]
     },
     "execution_count": 20,
     "metadata": {},
     "output_type": "execute_result"
    }
   ],
   "source": [
    "re.findall(r'^[a-zA-Z0-9]+$',dna,re.MULTILINE)"
   ]
  },
  {
   "cell_type": "code",
   "execution_count": null,
   "id": "07c0e8de",
   "metadata": {},
   "outputs": [],
   "source": []
  }
 ],
 "metadata": {
  "kernelspec": {
   "display_name": "Python 3 (ipykernel)",
   "language": "python",
   "name": "python3"
  },
  "language_info": {
   "codemirror_mode": {
    "name": "ipython",
    "version": 3
   },
   "file_extension": ".py",
   "mimetype": "text/x-python",
   "name": "python",
   "nbconvert_exporter": "python",
   "pygments_lexer": "ipython3",
   "version": "3.11.5"
  }
 },
 "nbformat": 4,
 "nbformat_minor": 5
}
